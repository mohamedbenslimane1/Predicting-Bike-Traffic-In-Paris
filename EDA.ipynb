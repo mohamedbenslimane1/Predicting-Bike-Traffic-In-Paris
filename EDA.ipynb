{
 "cells": [
  {
   "cell_type": "markdown",
   "metadata": {},
   "source": [
    "# In this notebook, we will do the full EDA for these datasets : \n",
    "- train.parquet  (the training set)\n",
    "- external_data.csv (supplemental weather information)\n",
    "- (add here the new datasets that we can find)"
   ]
  },
  {
   "cell_type": "markdown",
   "metadata": {},
   "source": [
    "-----------------------------------------------------------------------------------------------\n",
    "#### 1) EDA for train.parquet (the training set)"
   ]
  }
 ],
 "metadata": {
  "language_info": {
   "name": "python"
  }
 },
 "nbformat": 4,
 "nbformat_minor": 2
}
